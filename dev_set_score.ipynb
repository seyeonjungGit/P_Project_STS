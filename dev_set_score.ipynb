{
  "nbformat": 4,
  "nbformat_minor": 0,
  "metadata": {
    "colab": {
      "name": "dev_set_score.ipynb",
      "provenance": [],
      "collapsed_sections": [],
      "include_colab_link": true
    },
    "kernelspec": {
      "name": "python3",
      "display_name": "Python 3"
    },
    "language_info": {
      "name": "python"
    }
  },
  "cells": [
    {
      "cell_type": "markdown",
      "metadata": {
        "id": "view-in-github",
        "colab_type": "text"
      },
      "source": [
        "<a href=\"https://colab.research.google.com/github/seyeonjungGit/P_Project_STS/blob/main/dev_set_score.ipynb\" target=\"_parent\"><img src=\"https://colab.research.google.com/assets/colab-badge.svg\" alt=\"Open In Colab\"/></a>"
      ]
    },
    {
      "cell_type": "code",
      "source": [
        "from google.colab import drive\n",
        "drive.mount('/content/drive')"
      ],
      "metadata": {
        "colab": {
          "base_uri": "https://localhost:8080/"
        },
        "id": "U0tdq0PDQoK-",
        "outputId": "11404426-dc39-4b04-c107-dccedce0e02f"
      },
      "execution_count": null,
      "outputs": [
        {
          "output_type": "stream",
          "name": "stdout",
          "text": [
            "Drive already mounted at /content/drive; to attempt to forcibly remount, call drive.mount(\"/content/drive\", force_remount=True).\n"
          ]
        }
      ]
    },
    {
      "cell_type": "code",
      "source": [
        "import pandas as pd\n",
        "from scipy.stats import pearsonr, spearmanr\n",
        "from sklearn import metrics as sklearn_metrics"
      ],
      "metadata": {
        "id": "fCfivq62n3-v"
      },
      "execution_count": null,
      "outputs": []
    },
    {
      "cell_type": "code",
      "source": [
        "fname = 'dev_set_score.csv'\n",
        "dev_score_path = f'/content/drive/MyDrive/Colab Notebooks/wanted_preonboarding/assignments/sts/{fname}'\n",
        "dev_df = pd.read_csv(dev_score_path, index_col = 0)"
      ],
      "metadata": {
        "id": "gX9OrWQo6Hr-"
      },
      "execution_count": null,
      "outputs": []
    },
    {
      "cell_type": "code",
      "source": [
        "def pearson_and_spearman(labels, preds):\n",
        "    pearson_corr = pearsonr(preds, labels)[0]\n",
        "    spearman_corr = spearmanr(preds, labels)[0]\n",
        "    return {\n",
        "        \"pearson\": pearson_corr,\n",
        "        \"spearmanr\": spearman_corr,\n",
        "        \"corr\": (pearson_corr + spearman_corr) / 2,\n",
        "    }\n",
        "\n",
        "\n",
        "def f1_pre_rec(labels, preds):\n",
        "    return {\n",
        "        \"precision\": sklearn_metrics.precision_score(labels, preds, average=\"macro\"),\n",
        "        \"recall\": sklearn_metrics.recall_score(labels, preds, average=\"macro\"),\n",
        "        \"f1\": sklearn_metrics.f1_score(labels, preds, average=\"macro\"),\n",
        "    }\n",
        "\n",
        "\n",
        "def compute_metrics(metric_name, labels, preds):\n",
        "    assert len(preds) == len(labels)\n",
        "    if metric_name == \"pearson_and_spearman\":\n",
        "        return pearson_and_spearman(labels, preds)\n",
        "    elif metric_name == \"f1_pre_rec\":\n",
        "        return f1_pre_rec(labels, preds)\n",
        "    else:\n",
        "        raise KeyError(metric_name)"
      ],
      "metadata": {
        "id": "xmd6_JnFu_Ky"
      },
      "execution_count": null,
      "outputs": []
    },
    {
      "cell_type": "code",
      "source": [
        "## pearson & spearman\n",
        "corrs = {}\n",
        "corr = compute_metrics(\"pearson_and_spearman\", dev_df['true_real_label'], dev_df['predict_real_label'])\n",
        "corrs.update(corr)\n",
        "print(corrs)"
      ],
      "metadata": {
        "id": "wwyy66nadJSS",
        "outputId": "d195ef07-4f64-4a6b-aaf0-05c32f28b9e3",
        "colab": {
          "base_uri": "https://localhost:8080/"
        }
      },
      "execution_count": null,
      "outputs": [
        {
          "output_type": "stream",
          "name": "stdout",
          "text": [
            "{'pearson': 0.9309178133583659, 'spearmanr': 0.9271314692546173, 'corr': 0.9290246413064915}\n"
          ]
        }
      ]
    },
    {
      "cell_type": "code",
      "source": [
        "f1 = compute_metrics(\"f1_pre_rec\",dev_df['true_binary_label'], dev_df['predict_binary_label'])['f1']\n",
        "precision = compute_metrics(\"f1_pre_rec\",dev_df['true_binary_label'], dev_df['predict_binary_label'])['precision']\n",
        "recall = compute_metrics(\"f1_pre_rec\",dev_df['true_binary_label'], dev_df['predict_binary_label'])['recall']  "
      ],
      "metadata": {
        "id": "J5gBFdGxdKy_"
      },
      "execution_count": null,
      "outputs": []
    },
    {
      "cell_type": "code",
      "source": [
        "print(f\"f1 score  : {f1}\")\n",
        "print(f\"precision : {precision}\")\n",
        "print(f\"recall    : {recall}\")"
      ],
      "metadata": {
        "id": "M4x4pnR0dL_Y",
        "outputId": "7a526f1b-fe23-4925-d123-ca4a7f87f119",
        "colab": {
          "base_uri": "https://localhost:8080/"
        }
      },
      "execution_count": null,
      "outputs": [
        {
          "output_type": "stream",
          "name": "stdout",
          "text": [
            "f1 score  : 0.8780258519388955\n",
            "precision : 0.8797082937262357\n",
            "recall    : 0.8886439647309212\n"
          ]
        }
      ]
    }
  ]
}